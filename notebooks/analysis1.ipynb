{
 "cells": [
  {
   "cell_type": "markdown",
   "id": "e429835d",
   "metadata": {},
   "source": [
    "# Title \n",
    "This is a new lab file\n"
   ]
  },
  {
   "cell_type": "code",
   "execution_count": 6,
   "id": "646e4f54",
   "metadata": {},
   "outputs": [
    {
     "data": {
      "text/html": [
       "<div>\n",
       "<style scoped>\n",
       "    .dataframe tbody tr th:only-of-type {\n",
       "        vertical-align: middle;\n",
       "    }\n",
       "\n",
       "    .dataframe tbody tr th {\n",
       "        vertical-align: top;\n",
       "    }\n",
       "\n",
       "    .dataframe thead th {\n",
       "        text-align: right;\n",
       "    }\n",
       "</style>\n",
       "<table border=\"1\" class=\"dataframe\">\n",
       "  <thead>\n",
       "    <tr style=\"text-align: right;\">\n",
       "      <th></th>\n",
       "      <th>notification_date</th>\n",
       "      <th>postcode</th>\n",
       "      <th>lhd_2010_code</th>\n",
       "      <th>lhd_2010_name</th>\n",
       "      <th>lga_code19</th>\n",
       "      <th>lga_name19</th>\n",
       "    </tr>\n",
       "  </thead>\n",
       "  <tbody>\n",
       "    <tr>\n",
       "      <th>0</th>\n",
       "      <td>2020-01-25</td>\n",
       "      <td>2121</td>\n",
       "      <td>X760</td>\n",
       "      <td>Northern Sydney</td>\n",
       "      <td>16260</td>\n",
       "      <td>Parramatta (C)</td>\n",
       "    </tr>\n",
       "    <tr>\n",
       "      <th>1</th>\n",
       "      <td>2020-01-25</td>\n",
       "      <td>2134</td>\n",
       "      <td>X700</td>\n",
       "      <td>Sydney</td>\n",
       "      <td>11300</td>\n",
       "      <td>Burwood (A)</td>\n",
       "    </tr>\n",
       "    <tr>\n",
       "      <th>2</th>\n",
       "      <td>2020-01-25</td>\n",
       "      <td>2071</td>\n",
       "      <td>X760</td>\n",
       "      <td>Northern Sydney</td>\n",
       "      <td>14500</td>\n",
       "      <td>Ku-ring-gai (A)</td>\n",
       "    </tr>\n",
       "    <tr>\n",
       "      <th>3</th>\n",
       "      <td>2020-01-27</td>\n",
       "      <td>2033</td>\n",
       "      <td>X720</td>\n",
       "      <td>South Eastern Sydney</td>\n",
       "      <td>16550</td>\n",
       "      <td>Randwick (C)</td>\n",
       "    </tr>\n",
       "    <tr>\n",
       "      <th>4</th>\n",
       "      <td>2020-03-01</td>\n",
       "      <td>2077</td>\n",
       "      <td>X760</td>\n",
       "      <td>Northern Sydney</td>\n",
       "      <td>14000</td>\n",
       "      <td>Hornsby (A)</td>\n",
       "    </tr>\n",
       "  </tbody>\n",
       "</table>\n",
       "</div>"
      ],
      "text/plain": [
       "  notification_date postcode lhd_2010_code         lhd_2010_name lga_code19  \\\n",
       "0        2020-01-25     2121          X760       Northern Sydney      16260   \n",
       "1        2020-01-25     2134          X700                Sydney      11300   \n",
       "2        2020-01-25     2071          X760       Northern Sydney      14500   \n",
       "3        2020-01-27     2033          X720  South Eastern Sydney      16550   \n",
       "4        2020-03-01     2077          X760       Northern Sydney      14000   \n",
       "\n",
       "        lga_name19  \n",
       "0   Parramatta (C)  \n",
       "1      Burwood (A)  \n",
       "2  Ku-ring-gai (A)  \n",
       "3     Randwick (C)  \n",
       "4      Hornsby (A)  "
      ]
     },
     "execution_count": 6,
     "metadata": {},
     "output_type": "execute_result"
    }
   ],
   "source": [
    "# Load the Pandas libraries with alias 'pd' \n",
    "import pandas as pd \n",
    "\n",
    "# Read data from file \n",
    "data = pd.read_csv(\"../data/raw/confirmed_cases_table1_location.csv\") \n",
    "\n",
    "# Preview the first 5 lines of the loaded data \n",
    "data.head()"
   ]
  },
  {
   "cell_type": "code",
   "execution_count": null,
   "id": "46fada86",
   "metadata": {},
   "outputs": [],
   "source": []
  }
 ],
 "metadata": {
  "kernelspec": {
   "display_name": "Python 3",
   "language": "python",
   "name": "python3"
  },
  "language_info": {
   "codemirror_mode": {
    "name": "ipython",
    "version": 3
   },
   "file_extension": ".py",
   "mimetype": "text/x-python",
   "name": "python",
   "nbconvert_exporter": "python",
   "pygments_lexer": "ipython3",
   "version": "3.9.5"
  }
 },
 "nbformat": 4,
 "nbformat_minor": 5
}
